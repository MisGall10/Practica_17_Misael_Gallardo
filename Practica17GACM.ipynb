{
  "nbformat": 4,
  "nbformat_minor": 0,
  "metadata": {
    "colab": {
      "provenance": [],
      "include_colab_link": true
    },
    "kernelspec": {
      "name": "python3",
      "display_name": "Python 3"
    },
    "language_info": {
      "name": "python"
    }
  },
  "cells": [
    {
      "cell_type": "markdown",
      "metadata": {
        "id": "view-in-github",
        "colab_type": "text"
      },
      "source": [
        "<a href=\"https://colab.research.google.com/github/MisGall10/Practica_17_Misael_Gallardo/blob/main/Practica17GACM.ipynb\" target=\"_parent\"><img src=\"https://colab.research.google.com/assets/colab-badge.svg\" alt=\"Open In Colab\"/></a>"
      ]
    },
    {
      "cell_type": "markdown",
      "source": [
        "# **Proyecto de Programación para Analítica Descriptiva y Predictiva**\n",
        "## Nombre del Proyecto: Analisís predictivo del mantenimiento de máquinas\n",
        "## Grupo: B\n",
        "## Autor: Misael Adrian Gallardo Cadillo\n",
        "## Matrícula: 255859\n",
        "## Fecha: TBD"
      ],
      "metadata": {
        "id": "V5SiSwjFaQ8j"
      }
    },
    {
      "cell_type": "markdown",
      "source": [
        "# **1. Introducción**\n",
        "\n",
        "## - Descripción del problema: En la industria manufacturera, el mantenimiento de las máquinas es crucial para evitar fallas inesperadas que pueden causar tiempos de inactividad costosos, reducir la eficiencia operativa y aumentar los costos de producción.\n",
        "\n",
        "## - Objetivo del análisis: El objetivo de este proyecto es analizar los datos de sensores de las máquinas para desarrollar un modelo de mantenimiento predictivo que permita anticipar fallas y optimizar los tiempos de mantenimiento.\n",
        "\n",
        "## - Fuente de datos: KAGGLE [Machine Predictive Maintenance Classification] (https://www.kaggle.com/datasets/shivamb/machine-predictive-maintenance-classification)\n"
      ],
      "metadata": {
        "id": "6ljsvIIXbAHF"
      }
    },
    {
      "cell_type": "markdown",
      "source": [
        "# **2. Captura y Carga de Datos**\n",
        "\n",
        "Fuente de datos:\n",
        "\n",
        " * Este dataset proviene de un entorno de mantenimiento predictivo de máquinas, probablemente generado por sensores industriales que monitorean condiciones operativas en tiempo real.\n",
        "\n",
        "* El dataset se encuentra en formato CSV (Comma-Separated Values), un formato de texto ampliamente utilizado para almacenar datos tabulares.\n",
        "\n",
        "* El dataset contiene 10,000 observaciones (filas) y 10 variables (columnas).\n",
        "\n",
        "\n",
        "Al cargar los datos, algunos problemas comunes pueden incluir:\n",
        "\n",
        "* Valores nulos o faltantes, que podrían afectar el análisis.\n",
        "* Tipos de datos incorrectos, como números almacenados como texto.\n",
        "* Valores atípicos, que podrían distorsionar el análisis."
      ],
      "metadata": {
        "id": "R2awiYXqa6Tv"
      }
    },
    {
      "cell_type": "code",
      "source": [
        "from google.colab import drive\n",
        "drive.mount('/content/drive')"
      ],
      "metadata": {
        "colab": {
          "base_uri": "https://localhost:8080/"
        },
        "id": "ybFd14wwANMd",
        "outputId": "71842488-2100-46f5-c907-d69378262534"
      },
      "execution_count": null,
      "outputs": [
        {
          "output_type": "stream",
          "name": "stdout",
          "text": [
            "Mounted at /content/drive\n"
          ]
        }
      ]
    },
    {
      "cell_type": "markdown",
      "source": [
        "#**3.Transformación y Preprocesamiento - Data Wrangling**\n",
        "\n",
        "## - Identificación de Tipos de Datos\n",
        "\n",
        "Encontramos que el data set contiente:\n",
        "* 4 columnas con datos de tipo entero `int` ('UDI' , 'Rotational speed [rpm]' , 'Tool wear [min]' , 'Target')\n",
        "* 3 columnas con datos de tipo entero `float` ('Air temperature [K]' , 'Process temperature [K]' , 'Torque [Nm]')\n",
        "* 3 columnas con datos de tipo entero `object` ('Product ID' , 'Type' , 'Failure Type')"
      ],
      "metadata": {
        "id": "oKCLUQvPcSOm"
      }
    },
    {
      "cell_type": "code",
      "source": [
        "import pandas as pd\n",
        "\n",
        "# Cargamos el dataset con ayuda de pandass\n",
        "df = pd.read_csv('/content/drive/MyDrive/ClassFiles/Programacion/Proyecto/predictive_maintenance.csv')\n",
        "\n",
        "# Impriimos informacion general del dataset para ver el tipo de dato por columna\n",
        "print(\"Información general del dataset: \\n\")\n",
        "print(df.info())\n"
      ],
      "metadata": {
        "colab": {
          "base_uri": "https://localhost:8080/"
        },
        "id": "PocAeWsP_2uD",
        "outputId": "c341828c-56dc-4a4e-e92d-c9812ee8c416"
      },
      "execution_count": null,
      "outputs": [
        {
          "output_type": "stream",
          "name": "stdout",
          "text": [
            "Información general del dataset: \n",
            "\n",
            "<class 'pandas.core.frame.DataFrame'>\n",
            "RangeIndex: 10000 entries, 0 to 9999\n",
            "Data columns (total 10 columns):\n",
            " #   Column                   Non-Null Count  Dtype  \n",
            "---  ------                   --------------  -----  \n",
            " 0   UDI                      10000 non-null  int64  \n",
            " 1   Product ID               10000 non-null  object \n",
            " 2   Type                     10000 non-null  object \n",
            " 3   Air temperature [K]      10000 non-null  float64\n",
            " 4   Process temperature [K]  10000 non-null  float64\n",
            " 5   Rotational speed [rpm]   10000 non-null  int64  \n",
            " 6   Torque [Nm]              10000 non-null  float64\n",
            " 7   Tool wear [min]          10000 non-null  int64  \n",
            " 8   Target                   10000 non-null  int64  \n",
            " 9   Failure Type             10000 non-null  object \n",
            "dtypes: float64(3), int64(4), object(3)\n",
            "memory usage: 781.4+ KB\n",
            "None\n"
          ]
        }
      ]
    },
    {
      "cell_type": "markdown",
      "source": [
        "## - Cantidad de valores nulos\n",
        "\n",
        "El dataset contiene todos las columnas con valores, por lo tanto, no existen valores nulos."
      ],
      "metadata": {
        "id": "gCnoPmXGBlVq"
      }
    },
    {
      "cell_type": "code",
      "source": [
        "# Contar los valores nulos por columna\n",
        "print(\"Cantidad de valores nulos por columna: \\n\")\n",
        "print(df.isnull().sum())"
      ],
      "metadata": {
        "colab": {
          "base_uri": "https://localhost:8080/"
        },
        "id": "1X4BcUt0BlLa",
        "outputId": "adaa0b17-5510-499d-d5ff-56ba2c097e2f"
      },
      "execution_count": null,
      "outputs": [
        {
          "output_type": "stream",
          "name": "stdout",
          "text": [
            "Cantidad de valores nulos por columna: \n",
            "\n",
            "UDI                        0\n",
            "Product ID                 0\n",
            "Type                       0\n",
            "Air temperature [K]        0\n",
            "Process temperature [K]    0\n",
            "Rotational speed [rpm]     0\n",
            "Torque [Nm]                0\n",
            "Tool wear [min]            0\n",
            "Target                     0\n",
            "Failure Type               0\n",
            "dtype: int64\n"
          ]
        }
      ]
    },
    {
      "cell_type": "markdown",
      "source": [
        "##- Problemáticas encontradas:\n",
        "\n",
        "* Hay titulos de columnas con mayusculas y minusculas. Solucion: Poner todo en minusculas\n",
        "\n"
      ],
      "metadata": {
        "id": "DG4Sxu7OBlCy"
      }
    },
    {
      "cell_type": "code",
      "source": [
        "#Utilzamosel comando .str.lower para hacer minusculas todos los caracteres de los titulos.\n",
        "df.columns = df.columns.str.lower()\n",
        "#Imprimimos la informacion de las columnas para comprobar el cambio\n",
        "print(\"Nombres de columnas en minusculas: \\n\")\n",
        "print(df.info())"
      ],
      "metadata": {
        "colab": {
          "base_uri": "https://localhost:8080/"
        },
        "id": "8Yx82uK3Bk2q",
        "outputId": "254234e7-b451-485b-d8f2-7918a8ee0321"
      },
      "execution_count": null,
      "outputs": [
        {
          "output_type": "stream",
          "name": "stdout",
          "text": [
            "Nombres de columnas en minusculas: \n",
            "\n",
            "<class 'pandas.core.frame.DataFrame'>\n",
            "RangeIndex: 10000 entries, 0 to 9999\n",
            "Data columns (total 10 columns):\n",
            " #   Column                   Non-Null Count  Dtype  \n",
            "---  ------                   --------------  -----  \n",
            " 0   udi                      10000 non-null  int64  \n",
            " 1   product id               10000 non-null  object \n",
            " 2   type                     10000 non-null  object \n",
            " 3   air temperature [k]      10000 non-null  float64\n",
            " 4   process temperature [k]  10000 non-null  float64\n",
            " 5   rotational speed [rpm]   10000 non-null  int64  \n",
            " 6   torque [nm]              10000 non-null  float64\n",
            " 7   tool wear [min]          10000 non-null  int64  \n",
            " 8   target                   10000 non-null  int64  \n",
            " 9   failure type             10000 non-null  object \n",
            "dtypes: float64(3), int64(4), object(3)\n",
            "memory usage: 781.4+ KB\n",
            "None\n"
          ]
        }
      ]
    },
    {
      "cell_type": "markdown",
      "source": [
        "* Exiten espacios en algunos titulos de columnas. Solucion: Cambiar los espacios por un guin bajo"
      ],
      "metadata": {
        "id": "aXzYzyMWJv45"
      }
    },
    {
      "cell_type": "code",
      "source": [
        "#Utilzamosel comando .str.lower para hacer minusculas todos los caracteres de los titulos.\n",
        "df.columns = df.columns.str.replace(' ', '_')\n",
        "#Imprimimos la informacion de las columnas para comprobar el cambio\n",
        "print(\"Nombres de columnas sin espacios: \\n\")\n",
        "print(df.info())"
      ],
      "metadata": {
        "colab": {
          "base_uri": "https://localhost:8080/"
        },
        "id": "QhaX38YlJvmZ",
        "outputId": "3ca3ab5a-450b-4db6-cb3e-1dfc648d7e79"
      },
      "execution_count": null,
      "outputs": [
        {
          "output_type": "stream",
          "name": "stdout",
          "text": [
            "Nombres de columnas sin espacios: \n",
            "\n",
            "<class 'pandas.core.frame.DataFrame'>\n",
            "RangeIndex: 10000 entries, 0 to 9999\n",
            "Data columns (total 10 columns):\n",
            " #   Column                   Non-Null Count  Dtype  \n",
            "---  ------                   --------------  -----  \n",
            " 0   udi                      10000 non-null  int64  \n",
            " 1   product_id               10000 non-null  object \n",
            " 2   type                     10000 non-null  object \n",
            " 3   air_temperature_[k]      10000 non-null  float64\n",
            " 4   process_temperature_[k]  10000 non-null  float64\n",
            " 5   rotational_speed_[rpm]   10000 non-null  int64  \n",
            " 6   torque_[nm]              10000 non-null  float64\n",
            " 7   tool_wear_[min]          10000 non-null  int64  \n",
            " 8   target                   10000 non-null  int64  \n",
            " 9   failure_type             10000 non-null  object \n",
            "dtypes: float64(3), int64(4), object(3)\n",
            "memory usage: 781.4+ KB\n",
            "None\n"
          ]
        }
      ]
    },
    {
      "cell_type": "markdown",
      "source": [
        "* Existen caracteres especiales en algunas columnas (indicando las unidades de los datos). Solucion: Los eliminaremos."
      ],
      "metadata": {
        "id": "p8EG2-_1Jw1J"
      }
    },
    {
      "cell_type": "code",
      "source": [
        "#Con ayudad de .str.replace y expresiones regulares eliminanmos los caracteres\n",
        "#especiales y lo que esta dentro, asi como los guines bajos que quedan antes de\n",
        "#las unidades\n",
        "df.columns = df.columns.str.replace(r'\\s?[_]*\\[[^\\]]*\\]', '', regex=True)\n",
        "print(df.info())"
      ],
      "metadata": {
        "colab": {
          "base_uri": "https://localhost:8080/"
        },
        "id": "51ex-HejJxOZ",
        "outputId": "c20df9df-beb1-4a03-d0d1-748ddedaa75c"
      },
      "execution_count": null,
      "outputs": [
        {
          "output_type": "stream",
          "name": "stdout",
          "text": [
            "<class 'pandas.core.frame.DataFrame'>\n",
            "RangeIndex: 10000 entries, 0 to 9999\n",
            "Data columns (total 10 columns):\n",
            " #   Column               Non-Null Count  Dtype  \n",
            "---  ------               --------------  -----  \n",
            " 0   udi                  10000 non-null  int64  \n",
            " 1   product_id           10000 non-null  object \n",
            " 2   type                 10000 non-null  object \n",
            " 3   air_temperature      10000 non-null  float64\n",
            " 4   process_temperature  10000 non-null  float64\n",
            " 5   rotational_speed     10000 non-null  int64  \n",
            " 6   torque               10000 non-null  float64\n",
            " 7   tool_wear            10000 non-null  int64  \n",
            " 8   target               10000 non-null  int64  \n",
            " 9   failure_type         10000 non-null  object \n",
            "dtypes: float64(3), int64(4), object(3)\n",
            "memory usage: 781.4+ KB\n",
            "None\n"
          ]
        }
      ]
    },
    {
      "cell_type": "markdown",
      "source": [
        "* Verificamos si exiten Outliers en las columnas con datos numericos"
      ],
      "metadata": {
        "id": "XFdiC3CuU1lA"
      }
    },
    {
      "cell_type": "code",
      "source": [
        "import pandas as pd\n",
        "import numpy as np\n",
        "\n",
        "#Obtenemos unicamente las columnas con valor numerico\n",
        "numerical_columns = df.select_dtypes(include=[np.number])\n",
        "#Eliminamos las columnas 'udi' y 'target' que no son de interes por el momento\n",
        "numerical_columns = numerical_columns.drop(columns=['udi', 'target'], errors='ignore')\n",
        "#Obtenemos el resumen estadistico de las columnas de interes\n",
        "print('Resumen estadistico por columna \\n')\n",
        "print(numerical_columns.describe())\n",
        "#Obtenemos para cada columna la desviación estándar\n",
        "print('Desviación estándar por columna \\n')\n",
        "print(numerical_columns.std())\n",
        "# Iteramos sobre las columnas para encontrar los valores atípicos\n",
        "for columna in numerical_columns:\n",
        "    columna_data = df[columna]\n",
        "    atipicos = columna_data[(np.abs(columna_data - columna_data.mean()) > (3 * columna_data.std()))]\n",
        "    if atipicos.empty:\n",
        "        print(f'No se encontraron valores atípicos en la columna \"{columna}\".')\n",
        "    else:\n",
        "      print(f'Cantidad de valores atípicos en la columna \"{columna}\":')\n",
        "      print(atipicos.count())"
      ],
      "metadata": {
        "colab": {
          "base_uri": "https://localhost:8080/"
        },
        "id": "BVWzD_5-U1Vw",
        "outputId": "0523a0f8-673e-488d-8847-4c6b981b561e"
      },
      "execution_count": null,
      "outputs": [
        {
          "output_type": "stream",
          "name": "stdout",
          "text": [
            "Resumen estadistico por columna \n",
            "\n",
            "       air_temperature  process_temperature  rotational_speed        torque  \\\n",
            "count     10000.000000         10000.000000      10000.000000  10000.000000   \n",
            "mean        300.004930           310.005560       1538.776100     39.986910   \n",
            "std           2.000259             1.483734        179.284096      9.968934   \n",
            "min         295.300000           305.700000       1168.000000      3.800000   \n",
            "25%         298.300000           308.800000       1423.000000     33.200000   \n",
            "50%         300.100000           310.100000       1503.000000     40.100000   \n",
            "75%         301.500000           311.100000       1612.000000     46.800000   \n",
            "max         304.500000           313.800000       2886.000000     76.600000   \n",
            "\n",
            "          tool_wear  \n",
            "count  10000.000000  \n",
            "mean     107.951000  \n",
            "std       63.654147  \n",
            "min        0.000000  \n",
            "25%       53.000000  \n",
            "50%      108.000000  \n",
            "75%      162.000000  \n",
            "max      253.000000  \n",
            "Desviación estándar por columna \n",
            "\n",
            "air_temperature          2.000259\n",
            "process_temperature      1.483734\n",
            "rotational_speed       179.284096\n",
            "torque                   9.968934\n",
            "tool_wear               63.654147\n",
            "dtype: float64\n",
            "No se encontraron valores atípicos en la columna \"air_temperature\".\n",
            "No se encontraron valores atípicos en la columna \"process_temperature\".\n",
            "Cantidad de valores atípicos en la columna \"rotational_speed\":\n",
            "164\n",
            "Cantidad de valores atípicos en la columna \"torque\":\n",
            "25\n",
            "No se encontraron valores atípicos en la columna \"tool_wear\".\n"
          ]
        }
      ]
    },
    {
      "cell_type": "markdown",
      "source": [
        "# **4. Análisis Descriptivo de Datos**\n",
        "\n",
        "## - Preguntas a responder con el AD\n",
        "## - Explicación de Estadísticas Básicas Aplicadas, Visualización de Datos con Gráficos, y Resumen de las respuestas"
      ],
      "metadata": {
        "id": "3gERzOTAfuOL"
      }
    },
    {
      "cell_type": "markdown",
      "source": [
        "# **5. Análisis Exploratorio de los Datos**\n",
        "\n",
        "## - Preguntas a responder\n",
        "## - Estadísticas Empleadas, visualización y Resumen de las respuestas encontradas."
      ],
      "metadata": {
        "id": "_s8IXMLsfrI5"
      }
    },
    {
      "cell_type": "markdown",
      "source": [
        "# **6. Análisis Predictivo**\n",
        "\n",
        "## - Preprocesamiento para Análisis Predictivo: Problemas, Técnicas y Código\n",
        "\n",
        "## - Modelado Predictivo\n",
        "### - Modelo elegido y parámetros\n",
        "### - Entrenamiento y Evaluación\n",
        "## - Resultados\n"
      ],
      "metadata": {
        "id": "D8irLVFimFqa"
      }
    },
    {
      "cell_type": "markdown",
      "source": [
        "# **7. Conclusiones y Trabajos Futuros**\n",
        "\n",
        "## - Resumen del trabajo realizado, hallazgos y posibles mejoras"
      ],
      "metadata": {
        "id": "8ESQV5mmmSRI"
      }
    }
  ]
}